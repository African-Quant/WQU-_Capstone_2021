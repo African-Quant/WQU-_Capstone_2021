{
 "cells": [
  {
   "cell_type": "code",
   "execution_count": 1,
   "metadata": {},
   "outputs": [],
   "source": [
    "import pandas as pd\n",
    "import numpy as np"
   ]
  },
  {
   "cell_type": "code",
   "execution_count": 2,
   "metadata": {},
   "outputs": [],
   "source": [
    "max_allocation = 100000 # maximum budget that can be allocated\n",
    "weights = [0.30,0.20,0.15,0.15,0.10,0.10] # weights for n-month returns\n",
    "mutation_probability = 0.5 # initial mutation probability\n",
    "number_of_iterations = 25 # total number of GA iterations\n",
    "number_of_chrom_in_population = 500 # size of population"
   ]
  },
  {
   "cell_type": "code",
   "execution_count": 3,
   "metadata": {},
   "outputs": [],
   "source": [
    "scrip_names=['NVDA','AMZN','MU','AVGO','HD']\n",
    "list_of_months = [3,6,12,18,24,36]"
   ]
  },
  {
   "cell_type": "code",
   "execution_count": 4,
   "metadata": {},
   "outputs": [
    {
     "data": {
      "text/html": [
       "<div>\n",
       "<style scoped>\n",
       "    .dataframe tbody tr th:only-of-type {\n",
       "        vertical-align: middle;\n",
       "    }\n",
       "\n",
       "    .dataframe tbody tr th {\n",
       "        vertical-align: top;\n",
       "    }\n",
       "\n",
       "    .dataframe thead th {\n",
       "        text-align: right;\n",
       "    }\n",
       "</style>\n",
       "<table border=\"1\" class=\"dataframe\">\n",
       "  <thead>\n",
       "    <tr style=\"text-align: right;\">\n",
       "      <th></th>\n",
       "      <th>NVDA</th>\n",
       "      <th>AMZN</th>\n",
       "      <th>MU</th>\n",
       "      <th>AVGO</th>\n",
       "      <th>HD</th>\n",
       "    </tr>\n",
       "    <tr>\n",
       "      <th>Months</th>\n",
       "      <th></th>\n",
       "      <th></th>\n",
       "      <th></th>\n",
       "      <th></th>\n",
       "      <th></th>\n",
       "    </tr>\n",
       "  </thead>\n",
       "  <tbody>\n",
       "    <tr>\n",
       "      <th>3</th>\n",
       "      <td>0.705965</td>\n",
       "      <td>1.211964</td>\n",
       "      <td>0.414750</td>\n",
       "      <td>-0.038156</td>\n",
       "      <td>0.787997</td>\n",
       "    </tr>\n",
       "    <tr>\n",
       "      <th>6</th>\n",
       "      <td>0.395943</td>\n",
       "      <td>1.340490</td>\n",
       "      <td>1.514853</td>\n",
       "      <td>0.709030</td>\n",
       "      <td>0.671822</td>\n",
       "    </tr>\n",
       "    <tr>\n",
       "      <th>12</th>\n",
       "      <td>0.725880</td>\n",
       "      <td>1.281891</td>\n",
       "      <td>1.484242</td>\n",
       "      <td>0.714382</td>\n",
       "      <td>0.954735</td>\n",
       "    </tr>\n",
       "    <tr>\n",
       "      <th>18</th>\n",
       "      <td>2.139444</td>\n",
       "      <td>1.589002</td>\n",
       "      <td>1.630457</td>\n",
       "      <td>0.791490</td>\n",
       "      <td>1.023071</td>\n",
       "    </tr>\n",
       "    <tr>\n",
       "      <th>24</th>\n",
       "      <td>2.448978</td>\n",
       "      <td>0.733130</td>\n",
       "      <td>2.158251</td>\n",
       "      <td>0.053484</td>\n",
       "      <td>0.197019</td>\n",
       "    </tr>\n",
       "    <tr>\n",
       "      <th>36</th>\n",
       "      <td>3.755990</td>\n",
       "      <td>1.941009</td>\n",
       "      <td>1.381597</td>\n",
       "      <td>2.150344</td>\n",
       "      <td>0.915937</td>\n",
       "    </tr>\n",
       "  </tbody>\n",
       "</table>\n",
       "</div>"
      ],
      "text/plain": [
       "            NVDA      AMZN        MU      AVGO        HD\n",
       "Months                                                  \n",
       "3       0.705965  1.211964  0.414750 -0.038156  0.787997\n",
       "6       0.395943  1.340490  1.514853  0.709030  0.671822\n",
       "12      0.725880  1.281891  1.484242  0.714382  0.954735\n",
       "18      2.139444  1.589002  1.630457  0.791490  1.023071\n",
       "24      2.448978  0.733130  2.158251  0.053484  0.197019\n",
       "36      3.755990  1.941009  1.381597  2.150344  0.915937"
      ]
     },
     "execution_count": 4,
     "metadata": {},
     "output_type": "execute_result"
    }
   ],
   "source": [
    "stck_returns= pd.read_csv(\"portopt2.csv\")\n",
    "stck_returns= pd.DataFrame(stck_returns)\n",
    "\n",
    "stck_returns.set_index('Months')"
   ]
  },
  {
   "cell_type": "code",
   "execution_count": 5,
   "metadata": {},
   "outputs": [],
   "source": [
    "def gen_init_population(pop,num_stocks):\n",
    "    init_population = pd.DataFrame(columns=scrip_names)\n",
    "    for i in range(pop):\n",
    "        random = np.random.random(num_stocks)\n",
    "        chromosome = random/(sum(random))\n",
    "        init_population.loc[i] = chromosome\n",
    "    return init_population"
   ]
  },
  {
   "cell_type": "code",
   "execution_count": 6,
   "metadata": {},
   "outputs": [],
   "source": [
    "def fitness_func(max_alloc,population,stock_ret,wts):\n",
    "    weighted_stck_returns = stock_ret.apply(lambda x:(x*wts).sum())\n",
    "    pfolio_return = population.apply(lambda x: sum((x*max_alloc)*weighted_stck_returns)/max_alloc, axis = 1)\n",
    "    return pfolio_return"
   ]
  },
  {
   "cell_type": "code",
   "execution_count": 7,
   "metadata": {},
   "outputs": [],
   "source": [
    "\n",
    "def selection_func(fit_func,max_alloc,population,stock_ret,wts):\n",
    "    portfolio_return = fit_func(max_alloc,population,stock_ret,wts)\n",
    "    selected_portfolio = portfolio_return.sort_values(ascending=False)[0:int(0.2*population.shape[0])]\n",
    "    elite = population.iloc[selected_portfolio.index,:]\n",
    "    return elite"
   ]
  },
  {
   "cell_type": "code",
   "execution_count": 8,
   "metadata": {},
   "outputs": [
    {
     "name": "stderr",
     "output_type": "stream",
     "text": [
      "C:\\Users\\Ganihar\\Anaconda3\\envs\\wqu_ml_fin\\lib\\site-packages\\pandas\\compat\\_optional.py:106: UserWarning: Pandas requires version '2.6.2' or newer of 'numexpr' (version '2.6.1' currently installed).\n",
      "  warnings.warn(msg, UserWarning)\n"
     ]
    },
    {
     "data": {
      "text/html": [
       "<div>\n",
       "<style scoped>\n",
       "    .dataframe tbody tr th:only-of-type {\n",
       "        vertical-align: middle;\n",
       "    }\n",
       "\n",
       "    .dataframe tbody tr th {\n",
       "        vertical-align: top;\n",
       "    }\n",
       "\n",
       "    .dataframe thead th {\n",
       "        text-align: right;\n",
       "    }\n",
       "</style>\n",
       "<table border=\"1\" class=\"dataframe\">\n",
       "  <thead>\n",
       "    <tr style=\"text-align: right;\">\n",
       "      <th></th>\n",
       "      <th>NVDA</th>\n",
       "      <th>AMZN</th>\n",
       "      <th>MU</th>\n",
       "      <th>AVGO</th>\n",
       "      <th>HD</th>\n",
       "    </tr>\n",
       "  </thead>\n",
       "  <tbody>\n",
       "    <tr>\n",
       "      <th>0</th>\n",
       "      <td>0.159193</td>\n",
       "      <td>0.091059</td>\n",
       "      <td>0.172098</td>\n",
       "      <td>0.287743</td>\n",
       "      <td>0.289907</td>\n",
       "    </tr>\n",
       "    <tr>\n",
       "      <th>1</th>\n",
       "      <td>0.227481</td>\n",
       "      <td>0.378809</td>\n",
       "      <td>0.160671</td>\n",
       "      <td>0.053773</td>\n",
       "      <td>0.179265</td>\n",
       "    </tr>\n",
       "    <tr>\n",
       "      <th>2</th>\n",
       "      <td>0.201417</td>\n",
       "      <td>0.148550</td>\n",
       "      <td>0.169969</td>\n",
       "      <td>0.230187</td>\n",
       "      <td>0.249876</td>\n",
       "    </tr>\n",
       "    <tr>\n",
       "      <th>3</th>\n",
       "      <td>0.333719</td>\n",
       "      <td>0.061319</td>\n",
       "      <td>0.211559</td>\n",
       "      <td>0.299492</td>\n",
       "      <td>0.093911</td>\n",
       "    </tr>\n",
       "    <tr>\n",
       "      <th>4</th>\n",
       "      <td>0.025096</td>\n",
       "      <td>0.334197</td>\n",
       "      <td>0.203227</td>\n",
       "      <td>0.261345</td>\n",
       "      <td>0.176135</td>\n",
       "    </tr>\n",
       "  </tbody>\n",
       "</table>\n",
       "</div>"
      ],
      "text/plain": [
       "       NVDA      AMZN        MU      AVGO        HD\n",
       "0  0.159193  0.091059  0.172098  0.287743  0.289907\n",
       "1  0.227481  0.378809  0.160671  0.053773  0.179265\n",
       "2  0.201417  0.148550  0.169969  0.230187  0.249876\n",
       "3  0.333719  0.061319  0.211559  0.299492  0.093911\n",
       "4  0.025096  0.334197  0.203227  0.261345  0.176135"
      ]
     },
     "execution_count": 8,
     "metadata": {},
     "output_type": "execute_result"
    }
   ],
   "source": [
    "tmp_pop = selection_func(fitness_func,max_allocation,gen_init_population(number_of_chrom_in_population,len(scrip_names)),stck_returns,weights)\n",
    "tmp_pop.head()"
   ]
  },
  {
   "cell_type": "code",
   "execution_count": 9,
   "metadata": {},
   "outputs": [],
   "source": [
    "def evolution_func(elite_pop,mut_prob,scrip,num_of_chrom_in_pop):\n",
    "    new_pop = pd.DataFrame(columns=scrip)\n",
    "    new_pop_iter = 0\n",
    "    while(new_pop_iter <= num_of_chrom_in_pop):\n",
    "        if np.random.random() < mut_prob:\n",
    "            candidate = np.random.randint(low=0,high=elite_pop.shape[0],size=1)\n",
    "            mutant = elite_pop.iloc[candidate,:].copy()\n",
    "            np.random.shuffle(mutant)\n",
    "            new_pop = new_pop.append(mutant,ignore_index=True)\n",
    "            mut_prob = mut_prob/(new_pop_iter+1)\n",
    "        else:\n",
    "            parent_indices = np.random.randint(low=0,high=elite_pop.shape[0],size=2)\n",
    "            parents = elite_pop.iloc[parent_indices,:]\n",
    "            alpha = np.random.random()\n",
    "            child1 = alpha*(parents.iloc[0,:]) + (1-alpha)*(parents.iloc[1,:])\n",
    "            child2 = (1-alpha)*(parents.iloc[0,:]) + alpha*(parents.iloc[1,:])\n",
    "            new_pop = new_pop.append(dict(child1),ignore_index=True)\n",
    "            new_pop = new_pop.append(dict(child2),ignore_index=True)\n",
    "        new_pop_iter+=1\n",
    "    new_pop = pd.concat([new_pop,elite_pop],ignore_index=True)\n",
    "    return new_pop"
   ]
  },
  {
   "cell_type": "code",
   "execution_count": 10,
   "metadata": {},
   "outputs": [
    {
     "data": {
      "text/html": [
       "<div>\n",
       "<style scoped>\n",
       "    .dataframe tbody tr th:only-of-type {\n",
       "        vertical-align: middle;\n",
       "    }\n",
       "\n",
       "    .dataframe tbody tr th {\n",
       "        vertical-align: top;\n",
       "    }\n",
       "\n",
       "    .dataframe thead th {\n",
       "        text-align: right;\n",
       "    }\n",
       "</style>\n",
       "<table border=\"1\" class=\"dataframe\">\n",
       "  <thead>\n",
       "    <tr style=\"text-align: right;\">\n",
       "      <th></th>\n",
       "      <th>NVDA</th>\n",
       "      <th>AMZN</th>\n",
       "      <th>MU</th>\n",
       "      <th>AVGO</th>\n",
       "      <th>HD</th>\n",
       "    </tr>\n",
       "  </thead>\n",
       "  <tbody>\n",
       "    <tr>\n",
       "      <th>0</th>\n",
       "      <td>0.349143</td>\n",
       "      <td>0.303116</td>\n",
       "      <td>0.194092</td>\n",
       "      <td>0.139938</td>\n",
       "      <td>0.013711</td>\n",
       "    </tr>\n",
       "    <tr>\n",
       "      <th>1</th>\n",
       "      <td>0.106769</td>\n",
       "      <td>0.066284</td>\n",
       "      <td>0.388362</td>\n",
       "      <td>0.294328</td>\n",
       "      <td>0.144257</td>\n",
       "    </tr>\n",
       "    <tr>\n",
       "      <th>2</th>\n",
       "      <td>0.006628</td>\n",
       "      <td>0.130059</td>\n",
       "      <td>0.142102</td>\n",
       "      <td>0.494231</td>\n",
       "      <td>0.226979</td>\n",
       "    </tr>\n",
       "    <tr>\n",
       "      <th>3</th>\n",
       "      <td>0.256657</td>\n",
       "      <td>0.110569</td>\n",
       "      <td>0.245186</td>\n",
       "      <td>0.172760</td>\n",
       "      <td>0.214829</td>\n",
       "    </tr>\n",
       "    <tr>\n",
       "      <th>4</th>\n",
       "      <td>0.237723</td>\n",
       "      <td>0.134951</td>\n",
       "      <td>0.266272</td>\n",
       "      <td>0.128971</td>\n",
       "      <td>0.232083</td>\n",
       "    </tr>\n",
       "  </tbody>\n",
       "</table>\n",
       "</div>"
      ],
      "text/plain": [
       "       NVDA      AMZN        MU      AVGO        HD\n",
       "0  0.349143  0.303116  0.194092  0.139938  0.013711\n",
       "1  0.106769  0.066284  0.388362  0.294328  0.144257\n",
       "2  0.006628  0.130059  0.142102  0.494231  0.226979\n",
       "3  0.256657  0.110569  0.245186  0.172760  0.214829\n",
       "4  0.237723  0.134951  0.266272  0.128971  0.232083"
      ]
     },
     "execution_count": 10,
     "metadata": {},
     "output_type": "execute_result"
    }
   ],
   "source": [
    "evolution_func(tmp_pop,mutation_probability,scrip_names,number_of_chrom_in_population).head()"
   ]
  },
  {
   "cell_type": "code",
   "execution_count": 11,
   "metadata": {},
   "outputs": [],
   "source": [
    "def main_func():\n",
    "    initial_population = gen_init_population(number_of_chrom_in_population,len(scrip_names))\n",
    "    elite_population = selection_func(fitness_func,max_allocation,initial_population,stck_returns,weights)\n",
    "    elite_population.reset_index(inplace=True,drop=True)\n",
    "    new_population = evolution_func(elite_population,mutation_probability,scrip_names,number_of_chrom_in_population)\n",
    "    for i in range(number_of_iterations):\n",
    "        new_elite_population = selection_func(fitness_func,max_allocation,new_population,stck_returns,weights)\n",
    "        new_population = evolution_func(new_elite_population,mutation_probability,scrip_names,number_of_chrom_in_population)\n",
    "    return new_population"
   ]
  },
  {
   "cell_type": "code",
   "execution_count": 12,
   "metadata": {},
   "outputs": [],
   "source": [
    "range_of_portfolios = main_func()"
   ]
  },
  {
   "cell_type": "code",
   "execution_count": 13,
   "metadata": {},
   "outputs": [
    {
     "data": {
      "text/html": [
       "<div>\n",
       "<style scoped>\n",
       "    .dataframe tbody tr th:only-of-type {\n",
       "        vertical-align: middle;\n",
       "    }\n",
       "\n",
       "    .dataframe tbody tr th {\n",
       "        vertical-align: top;\n",
       "    }\n",
       "\n",
       "    .dataframe thead th {\n",
       "        text-align: right;\n",
       "    }\n",
       "</style>\n",
       "<table border=\"1\" class=\"dataframe\">\n",
       "  <thead>\n",
       "    <tr style=\"text-align: right;\">\n",
       "      <th></th>\n",
       "      <th>NVDA</th>\n",
       "      <th>AMZN</th>\n",
       "      <th>MU</th>\n",
       "      <th>AVGO</th>\n",
       "      <th>HD</th>\n",
       "    </tr>\n",
       "  </thead>\n",
       "  <tbody>\n",
       "    <tr>\n",
       "      <th>0</th>\n",
       "      <td>0.180674</td>\n",
       "      <td>0.196413</td>\n",
       "      <td>0.204961</td>\n",
       "      <td>0.207796</td>\n",
       "      <td>0.210156</td>\n",
       "    </tr>\n",
       "    <tr>\n",
       "      <th>1</th>\n",
       "      <td>0.181180</td>\n",
       "      <td>0.197711</td>\n",
       "      <td>0.204990</td>\n",
       "      <td>0.206891</td>\n",
       "      <td>0.209227</td>\n",
       "    </tr>\n",
       "    <tr>\n",
       "      <th>2</th>\n",
       "      <td>0.180828</td>\n",
       "      <td>0.197147</td>\n",
       "      <td>0.205022</td>\n",
       "      <td>0.207360</td>\n",
       "      <td>0.209643</td>\n",
       "    </tr>\n",
       "    <tr>\n",
       "      <th>3</th>\n",
       "      <td>0.180461</td>\n",
       "      <td>0.197805</td>\n",
       "      <td>0.204982</td>\n",
       "      <td>0.207344</td>\n",
       "      <td>0.209407</td>\n",
       "    </tr>\n",
       "    <tr>\n",
       "      <th>4</th>\n",
       "      <td>0.180840</td>\n",
       "      <td>0.198269</td>\n",
       "      <td>0.204403</td>\n",
       "      <td>0.206930</td>\n",
       "      <td>0.209558</td>\n",
       "    </tr>\n",
       "    <tr>\n",
       "      <th>...</th>\n",
       "      <td>...</td>\n",
       "      <td>...</td>\n",
       "      <td>...</td>\n",
       "      <td>...</td>\n",
       "      <td>...</td>\n",
       "    </tr>\n",
       "    <tr>\n",
       "      <th>1242</th>\n",
       "      <td>0.180985</td>\n",
       "      <td>0.197545</td>\n",
       "      <td>0.205277</td>\n",
       "      <td>0.206695</td>\n",
       "      <td>0.209499</td>\n",
       "    </tr>\n",
       "    <tr>\n",
       "      <th>1243</th>\n",
       "      <td>0.181561</td>\n",
       "      <td>0.197010</td>\n",
       "      <td>0.205080</td>\n",
       "      <td>0.207043</td>\n",
       "      <td>0.209305</td>\n",
       "    </tr>\n",
       "    <tr>\n",
       "      <th>1244</th>\n",
       "      <td>0.181840</td>\n",
       "      <td>0.197261</td>\n",
       "      <td>0.205683</td>\n",
       "      <td>0.206432</td>\n",
       "      <td>0.208784</td>\n",
       "    </tr>\n",
       "    <tr>\n",
       "      <th>1245</th>\n",
       "      <td>0.181705</td>\n",
       "      <td>0.197299</td>\n",
       "      <td>0.205688</td>\n",
       "      <td>0.206750</td>\n",
       "      <td>0.208558</td>\n",
       "    </tr>\n",
       "    <tr>\n",
       "      <th>1246</th>\n",
       "      <td>0.182121</td>\n",
       "      <td>0.197316</td>\n",
       "      <td>0.205259</td>\n",
       "      <td>0.206343</td>\n",
       "      <td>0.208961</td>\n",
       "    </tr>\n",
       "  </tbody>\n",
       "</table>\n",
       "<p>1247 rows × 5 columns</p>\n",
       "</div>"
      ],
      "text/plain": [
       "          NVDA      AMZN        MU      AVGO        HD\n",
       "0     0.180674  0.196413  0.204961  0.207796  0.210156\n",
       "1     0.181180  0.197711  0.204990  0.206891  0.209227\n",
       "2     0.180828  0.197147  0.205022  0.207360  0.209643\n",
       "3     0.180461  0.197805  0.204982  0.207344  0.209407\n",
       "4     0.180840  0.198269  0.204403  0.206930  0.209558\n",
       "...        ...       ...       ...       ...       ...\n",
       "1242  0.180985  0.197545  0.205277  0.206695  0.209499\n",
       "1243  0.181561  0.197010  0.205080  0.207043  0.209305\n",
       "1244  0.181840  0.197261  0.205683  0.206432  0.208784\n",
       "1245  0.181705  0.197299  0.205688  0.206750  0.208558\n",
       "1246  0.182121  0.197316  0.205259  0.206343  0.208961\n",
       "\n",
       "[1247 rows x 5 columns]"
      ]
     },
     "execution_count": 13,
     "metadata": {},
     "output_type": "execute_result"
    }
   ],
   "source": [
    "range_of_portfolios"
   ]
  },
  {
   "cell_type": "code",
   "execution_count": 14,
   "metadata": {},
   "outputs": [
    {
     "data": {
      "text/plain": [
       "NVDA    0.180674\n",
       "AMZN    0.196413\n",
       "MU      0.204961\n",
       "AVGO    0.207796\n",
       "HD      0.210156\n",
       "Name: 0, dtype: float64"
      ]
     },
     "execution_count": 14,
     "metadata": {},
     "output_type": "execute_result"
    }
   ],
   "source": [
    "top_portfolios = selection_func(fitness_func,max_allocation,range_of_portfolios,stck_returns,weights)\n",
    "final_portfolio = top_portfolios.iloc[0]\n",
    "final_portfolio"
   ]
  },
  {
   "cell_type": "code",
   "execution_count": 15,
   "metadata": {},
   "outputs": [
    {
     "data": {
      "text/plain": [
       "NVDA    1.341273\n",
       "AMZN    1.329735\n",
       "MU      1.248585\n",
       "AVGO    0.576623\n",
       "HD      0.778730\n",
       "dtype: float64"
      ]
     },
     "execution_count": 15,
     "metadata": {},
     "output_type": "execute_result"
    }
   ],
   "source": [
    "weighted_stck_returns = stck_returns.apply(lambda x:(x*weights).sum())\n",
    "weighted_stck_returns[1:6]"
   ]
  },
  {
   "cell_type": "code",
   "execution_count": 18,
   "metadata": {},
   "outputs": [
    {
     "name": "stdout",
     "output_type": "stream",
     "text": [
      "The portfolio return is: 4.034\n"
     ]
    }
   ],
   "source": [
    "portfolio_return = sum((final_portfolio*max_allocation)*weighted_stck_returns[1:6])/max_allocation\n",
    "print('The portfolio return is: {0:.3f}'.format(portfolio_return))"
   ]
  }
 ],
 "metadata": {
  "kernelspec": {
   "display_name": "Python 3",
   "language": "python",
   "name": "python3"
  },
  "language_info": {
   "codemirror_mode": {
    "name": "ipython",
    "version": 3
   },
   "file_extension": ".py",
   "mimetype": "text/x-python",
   "name": "python",
   "nbconvert_exporter": "python",
   "pygments_lexer": "ipython3",
   "version": "3.5.6"
  }
 },
 "nbformat": 4,
 "nbformat_minor": 2
}
