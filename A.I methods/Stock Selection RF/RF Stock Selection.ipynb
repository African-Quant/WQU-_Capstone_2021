{
 "cells": [
  {
   "cell_type": "code",
   "execution_count": 32,
   "metadata": {},
   "outputs": [],
   "source": [
    "from sklearn import tree\n",
    "import pandas as pd\n",
    "import numpy as np"
   ]
  },
  {
   "cell_type": "code",
   "execution_count": 33,
   "metadata": {},
   "outputs": [],
   "source": [
    "#load data\n",
    "data_df = pd.read_csv(\"MVStocks.csv\",encoding= 'unicode_escape')\n"
   ]
  },
  {
   "cell_type": "code",
   "execution_count": 34,
   "metadata": {},
   "outputs": [],
   "source": [
    "#specify the features(measures) and target (label) to be used. Change year / time frame for diffrent scenarios\n",
    "#get features data to be used\n",
    "features_columns = ['EPS basic','ROE','ROA', 'P/B ratio', 'P/E ratio', 'Dividend payout ratio',\n",
    "'Long-term debt to equity ratio', 'Equity to assets ratio', 'Free cash flow per share',\n",
    "'Current ratio', 'mktcap_revenue_value', 'mktcap_free_cash_flow_value',\n",
    "'mktcap_cash_value', 'cash_oper_gt_earnings_value',\n",
    "'entvalue_earnings_value', 'marketcap_bookvalue_value']"
   ]
  },
  {
   "cell_type": "code",
   "execution_count": 35,
   "metadata": {},
   "outputs": [],
   "source": [
    "features_data_df = data_df[features_columns]\n",
    "data = features_data_df.values"
   ]
  },
  {
   "cell_type": "code",
   "execution_count": 36,
   "metadata": {},
   "outputs": [],
   "source": [
    "#get target data\n",
    "target_values = ['no','yes']\n",
    "selected_target_column = 'rrank'\n",
    "data_df.loc[data_df[selected_target_column] >= 250, 'Value_stock'] =1\n",
    "data_df.loc[data_df[selected_target_column] < 250, 'Value_stock'] =0\n",
    "target = data_df['Value_stock'].values\n",
    "from sklearn.model_selection import train_test_split\n",
    "X_train, X_test, y_train, y_test = train_test_split(data, target, random_state=42)"
   ]
  },
  {
   "cell_type": "code",
   "execution_count": 37,
   "metadata": {},
   "outputs": [
    {
     "data": {
      "text/plain": [
       "0.6268656716417911"
      ]
     },
     "execution_count": 37,
     "metadata": {},
     "output_type": "execute_result"
    }
   ],
   "source": [
    "from sklearn.ensemble import RandomForestClassifier\n",
    "rf = RandomForestClassifier(n_estimators=200)\n",
    "rf = rf.fit(X_train, y_train)\n",
    "rf.score(X_test, y_test)"
   ]
  },
  {
   "cell_type": "code",
   "execution_count": 38,
   "metadata": {},
   "outputs": [],
   "source": [
    "data_df =data_df[~data_df.isin([np.nan, np.inf, -np.inf]).any(1)]"
   ]
  },
  {
   "cell_type": "code",
   "execution_count": 39,
   "metadata": {},
   "outputs": [
    {
     "data": {
      "text/plain": [
       "[(0.10489726281374025, 'P/E ratio'),\n",
       " (0.09993113766680478, 'ROA'),\n",
       " (0.0997711276896624, 'Free cash flow per share'),\n",
       " (0.09662186455241016, 'Long-term debt to equity ratio'),\n",
       " (0.09279793709045109, 'Equity to assets ratio'),\n",
       " (0.09062256248331735, 'Current ratio'),\n",
       " (0.08619236398016575, 'P/B ratio'),\n",
       " (0.0853256791594777, 'EPS basic'),\n",
       " (0.08407911613454588, 'Dividend payout ratio'),\n",
       " (0.08252669267659203, 'ROE'),\n",
       " (0.05022611910504385, 'cash_oper_gt_earnings_value'),\n",
       " (0.021779131030607673, 'mktcap_cash_value'),\n",
       " (0.0027816742745571618, 'marketcap_bookvalue_value'),\n",
       " (0.002116000545095235, 'mktcap_revenue_value'),\n",
       " (0.00033133079752866595, 'mktcap_free_cash_flow_value'),\n",
       " (0.0, 'entvalue_earnings_value')]"
      ]
     },
     "execution_count": 39,
     "metadata": {},
     "output_type": "execute_result"
    }
   ],
   "source": [
    "sorted(zip(rf.feature_importances_, features_columns), reverse=True)"
   ]
  },
  {
   "cell_type": "code",
   "execution_count": 40,
   "metadata": {},
   "outputs": [],
   "source": [
    "data_df.to_csv('Stock Selection_rf.csv')"
   ]
  }
 ],
 "metadata": {
  "kernelspec": {
   "display_name": "Python 3",
   "language": "python",
   "name": "python3"
  },
  "language_info": {
   "codemirror_mode": {
    "name": "ipython",
    "version": 3
   },
   "file_extension": ".py",
   "mimetype": "text/x-python",
   "name": "python",
   "nbconvert_exporter": "python",
   "pygments_lexer": "ipython3",
   "version": "3.5.6"
  }
 },
 "nbformat": 4,
 "nbformat_minor": 2
}
