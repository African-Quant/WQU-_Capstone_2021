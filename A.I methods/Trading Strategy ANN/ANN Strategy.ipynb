{
 "cells": [
  {
   "cell_type": "code",
   "execution_count": 19,
   "metadata": {},
   "outputs": [],
   "source": [
    "import numpy as np\n",
    "import pandas as pd\n",
    "import talib\n",
    "import random\n",
    "random.seed(42)"
   ]
  },
  {
   "cell_type": "code",
   "execution_count": 20,
   "metadata": {},
   "outputs": [],
   "source": [
    "from sklearn.preprocessing import StandardScaler\n",
    "from keras.models import Sequential\n",
    "from keras.layers import Dense\n",
    "from keras.layers import Dropout\n",
    "import matplotlib.pyplot as plt"
   ]
  },
  {
   "cell_type": "code",
   "execution_count": 22,
   "metadata": {},
   "outputs": [
    {
     "data": {
      "text/html": [
       "<div>\n",
       "<style scoped>\n",
       "    .dataframe tbody tr th:only-of-type {\n",
       "        vertical-align: middle;\n",
       "    }\n",
       "\n",
       "    .dataframe tbody tr th {\n",
       "        vertical-align: top;\n",
       "    }\n",
       "\n",
       "    .dataframe thead th {\n",
       "        text-align: right;\n",
       "    }\n",
       "</style>\n",
       "<table border=\"1\" class=\"dataframe\">\n",
       "  <thead>\n",
       "    <tr style=\"text-align: right;\">\n",
       "      <th></th>\n",
       "      <th>Open</th>\n",
       "      <th>High</th>\n",
       "      <th>Low</th>\n",
       "      <th>Close</th>\n",
       "      <th>Volume</th>\n",
       "    </tr>\n",
       "    <tr>\n",
       "      <th>Date</th>\n",
       "      <th></th>\n",
       "      <th></th>\n",
       "      <th></th>\n",
       "      <th></th>\n",
       "      <th></th>\n",
       "    </tr>\n",
       "  </thead>\n",
       "  <tbody>\n",
       "    <tr>\n",
       "      <th>2017-01-17</th>\n",
       "      <td>103.000000</td>\n",
       "      <td>103.199997</td>\n",
       "      <td>100.570000</td>\n",
       "      <td>101.110001</td>\n",
       "      <td>14515300.0</td>\n",
       "    </tr>\n",
       "    <tr>\n",
       "      <th>2017-01-18</th>\n",
       "      <td>100.239998</td>\n",
       "      <td>103.230003</td>\n",
       "      <td>99.110001</td>\n",
       "      <td>102.949997</td>\n",
       "      <td>16360600.0</td>\n",
       "    </tr>\n",
       "    <tr>\n",
       "      <th>2017-01-19</th>\n",
       "      <td>103.070000</td>\n",
       "      <td>106.459999</td>\n",
       "      <td>102.980003</td>\n",
       "      <td>105.160004</td>\n",
       "      <td>16121800.0</td>\n",
       "    </tr>\n",
       "    <tr>\n",
       "      <th>2017-01-20</th>\n",
       "      <td>106.080002</td>\n",
       "      <td>106.800003</td>\n",
       "      <td>103.120003</td>\n",
       "      <td>104.010002</td>\n",
       "      <td>12300600.0</td>\n",
       "    </tr>\n",
       "    <tr>\n",
       "      <th>2017-01-23</th>\n",
       "      <td>103.800003</td>\n",
       "      <td>105.900002</td>\n",
       "      <td>103.699997</td>\n",
       "      <td>105.089996</td>\n",
       "      <td>9247600.0</td>\n",
       "    </tr>\n",
       "  </tbody>\n",
       "</table>\n",
       "</div>"
      ],
      "text/plain": [
       "                  Open        High         Low       Close      Volume\n",
       "Date                                                                  \n",
       "2017-01-17  103.000000  103.199997  100.570000  101.110001  14515300.0\n",
       "2017-01-18  100.239998  103.230003   99.110001  102.949997  16360600.0\n",
       "2017-01-19  103.070000  106.459999  102.980003  105.160004  16121800.0\n",
       "2017-01-20  106.080002  106.800003  103.120003  104.010002  12300600.0\n",
       "2017-01-23  103.800003  105.900002  103.699997  105.089996   9247600.0"
      ]
     },
     "execution_count": 22,
     "metadata": {},
     "output_type": "execute_result"
    }
   ],
   "source": [
    "from pandas_datareader import data as pdr\n",
    "dataset = pdr.get_data_yahoo('NVDA', '2017-01-18', '2018-02-07')\n",
    "#df = df.dropna()\n",
    "#df = df.iloc[:,:4]\n",
    "dataset = dataset.dropna()\n",
    "dataset = dataset[['Open', 'High', 'Low', 'Close','Volume']]\n",
    "dataset.head()"
   ]
  },
  {
   "cell_type": "code",
   "execution_count": 23,
   "metadata": {},
   "outputs": [],
   "source": [
    "close=dataset['Close'].values\n",
    "open=dataset['Open'].values\n",
    "high=dataset['High'].values\n",
    "low=dataset['Low'].values\n",
    "volume=dataset['Volume'].values.astype(float)"
   ]
  },
  {
   "cell_type": "code",
   "execution_count": 24,
   "metadata": {},
   "outputs": [],
   "source": [
    "dataset['H-L'] = dataset['High'] - dataset['Low']\n",
    "dataset['O-C'] = dataset['Close'] - dataset['Open']\n",
    "dataset['3day MA'] = dataset['Close'].shift(1).rolling(window = 3).mean()\n",
    "dataset['10day MA'] = dataset['Close'].shift(1).rolling(window = 10).mean()\n",
    "dataset['30day MA'] = dataset['Close'].shift(1).rolling(window = 30).mean()\n",
    "dataset['Std_dev']= dataset['Close'].rolling(5).std()\n",
    "dataset['RSI'] = talib.RSI(dataset['Close'].values, timeperiod = 9)\n",
    "dataset['Williams %R'] = talib.WILLR(dataset['High'].values, dataset['Low'].values, dataset['Close'].values, 7)\n"
   ]
  },
  {
   "cell_type": "code",
   "execution_count": 25,
   "metadata": {},
   "outputs": [],
   "source": [
    "dataset['ADX'] = talib.ADX(high, low, close, timeperiod=14)\n",
    "dataset['ADXR'] = talib.ADXR(high, low, close, timeperiod=14)\n",
    "dataset['APO'] = talib.APO(close, fastperiod=12, slowperiod=26, matype=0)\n",
    "dataset['AROONSC'] = talib.AROONOSC(high, low, timeperiod=14)\n",
    "dataset['BOP'] = talib.BOP(open, high, low, close)\n",
    "dataset['CMO'] = talib.CMO(close, timeperiod=14)\n",
    "dataset['DX'] = talib.DX(high, low, close, timeperiod=14)\n",
    "dataset['MFI'] = talib.MFI(high, low, close, volume, timeperiod=14)\n",
    "dataset['MOM'] = talib.MOM(close, timeperiod=10)\n",
    "dataset['PPO'] = talib.PPO(close, fastperiod=12, slowperiod=26, matype=0)\n",
    "dataset['ROC'] = talib.ROC(close, timeperiod=10)\n",
    "dataset['RSI'] = talib.RSI(close, timeperiod=14)\n",
    "dataset['TRIX']= talib.TRIX(close, timeperiod=30)\n",
    "dataset['ULTSOC'] = talib.ULTOSC(high, low, close, timeperiod1=7, timeperiod2=14, timeperiod3=28)\n",
    "dataset['WILLR'] = talib.WILLR(high, low, close, timeperiod=14)\n",
    "dataset['AD'] = talib.AD(high, low, close, volume)\n",
    "dataset['ADOSC'] = talib.ADOSC(high, low, close, volume, fastperiod=3, slowperiod=10)\n",
    "dataset['OBV'] = talib.OBV(close, volume)\n",
    "dataset['DEMA'] = talib.DEMA(close, timeperiod=30)\n",
    "dataset['KAMA'] = talib.KAMA(close, timeperiod=30)\n",
    "dataset['SAR'] = talib.SAR(high, low, acceleration=0, maximum=0)\n",
    "dataset['TEMA'] = talib.TEMA(close, timeperiod=30)\n",
    "dataset['TRIMA'] = talib.TRIMA(close, timeperiod=30)\n",
    "dataset['WMA'] = talib.WMA(close, timeperiod=30)\n",
    "dataset['CCI'] = talib.CCI(high, low, close, timeperiod=14)"
   ]
  },
  {
   "cell_type": "code",
   "execution_count": 26,
   "metadata": {},
   "outputs": [],
   "source": [
    "X = dataset.iloc[:, 4:-1]\n",
    "y = dataset.iloc[:, -1]\n"
   ]
  },
  {
   "cell_type": "code",
   "execution_count": 27,
   "metadata": {},
   "outputs": [],
   "source": [
    "X.replace([np.inf, -np.inf], np.nan, inplace=True)\n",
    "y.replace([np.inf, -np.inf], np.nan, inplace=True)\n",
    "split = int(len(dataset)*0.8)\n",
    "X_train, X_test, y_train, y_test = X[:split], X[split:], y[:split], y[split:]\n"
   ]
  },
  {
   "cell_type": "code",
   "execution_count": 28,
   "metadata": {},
   "outputs": [
    {
     "name": "stdout",
     "output_type": "stream",
     "text": [
      "[[-0.78841486 -0.01326535  0.70982172 ...  2.25474227  1.90753272\n",
      "   1.89087974]\n",
      " [-0.78041464 -0.82275509  0.1059845  ...  2.29633002  1.93660412\n",
      "   1.91617244]\n",
      " [-0.89104449 -0.29555269 -0.7421848  ...  2.31973028  1.96433549\n",
      "   1.93745465]\n",
      " ...\n",
      " [ 1.211911   10.01611581 -4.66189938 ...  3.51315429  2.54371441\n",
      "   2.57092925]\n",
      " [ 1.08081764  7.30535926  7.37299406 ...  3.43159728  2.59439264\n",
      "   2.57916486]\n",
      " [ 0.26969506  1.73025247 -0.29192057 ...  3.38688647  2.64241194\n",
      "   2.5918198 ]] <class 'numpy.float64'>\n"
     ]
    }
   ],
   "source": [
    "sc = StandardScaler()\n",
    "X_train = sc.fit_transform(X_train)\n",
    "X_test = sc.transform(X_test)\n",
    "print(X_test, type(X_test[1][1]))"
   ]
  },
  {
   "cell_type": "code",
   "execution_count": 29,
   "metadata": {},
   "outputs": [
    {
     "name": "stdout",
     "output_type": "stream",
     "text": [
      "Epoch 1/100\n",
      "214/214 [==============================] - 0s 2ms/step - loss: nan - acc: 0.0000e+00\n",
      "Epoch 2/100\n",
      "214/214 [==============================] - 0s 284us/step - loss: nan - acc: 0.0000e+00\n",
      "Epoch 3/100\n",
      "214/214 [==============================] - 0s 238us/step - loss: nan - acc: 0.0000e+00\n",
      "Epoch 4/100\n",
      "214/214 [==============================] - 0s 230us/step - loss: nan - acc: 0.0000e+00\n",
      "Epoch 5/100\n",
      "214/214 [==============================] - 0s 215us/step - loss: nan - acc: 0.0000e+00\n",
      "Epoch 6/100\n",
      "214/214 [==============================] - 0s 210us/step - loss: nan - acc: 0.0000e+00\n",
      "Epoch 7/100\n",
      "214/214 [==============================] - 0s 215us/step - loss: nan - acc: 0.0000e+00\n",
      "Epoch 8/100\n",
      "214/214 [==============================] - 0s 224us/step - loss: nan - acc: 0.0000e+00\n",
      "Epoch 9/100\n",
      "214/214 [==============================] - 0s 210us/step - loss: nan - acc: 0.0000e+00\n",
      "Epoch 10/100\n",
      "214/214 [==============================] - 0s 243us/step - loss: nan - acc: 0.0000e+00\n",
      "Epoch 11/100\n",
      "214/214 [==============================] - 0s 285us/step - loss: nan - acc: 0.0000e+00\n",
      "Epoch 12/100\n",
      "214/214 [==============================] - 0s 285us/step - loss: nan - acc: 0.0000e+00\n",
      "Epoch 13/100\n",
      "214/214 [==============================] - 0s 248us/step - loss: nan - acc: 0.0000e+00\n",
      "Epoch 14/100\n",
      "214/214 [==============================] - 0s 290us/step - loss: nan - acc: 0.0000e+00\n",
      "Epoch 15/100\n",
      "214/214 [==============================] - 0s 308us/step - loss: nan - acc: 0.0000e+00\n",
      "Epoch 16/100\n",
      "214/214 [==============================] - 0s 299us/step - loss: nan - acc: 0.0000e+00\n",
      "Epoch 17/100\n",
      "214/214 [==============================] - 0s 229us/step - loss: nan - acc: 0.0000e+00\n",
      "Epoch 18/100\n",
      "214/214 [==============================] - 0s 235us/step - loss: nan - acc: 0.0000e+00\n",
      "Epoch 19/100\n",
      "214/214 [==============================] - 0s 252us/step - loss: nan - acc: 0.0000e+00\n",
      "Epoch 20/100\n",
      "214/214 [==============================] - 0s 290us/step - loss: nan - acc: 0.0000e+00\n",
      "Epoch 21/100\n",
      "214/214 [==============================] - 0s 280us/step - loss: nan - acc: 0.0000e+00\n",
      "Epoch 22/100\n",
      "214/214 [==============================] - 0s 299us/step - loss: nan - acc: 0.0000e+00\n",
      "Epoch 23/100\n",
      "214/214 [==============================] - 0s 290us/step - loss: nan - acc: 0.0000e+00\n",
      "Epoch 24/100\n",
      "214/214 [==============================] - 0s 304us/step - loss: nan - acc: 0.0000e+00\n",
      "Epoch 25/100\n",
      "214/214 [==============================] - 0s 304us/step - loss: nan - acc: 0.0000e+00\n",
      "Epoch 26/100\n",
      "214/214 [==============================] - 0s 308us/step - loss: nan - acc: 0.0000e+00\n",
      "Epoch 27/100\n",
      "214/214 [==============================] - 0s 280us/step - loss: nan - acc: 0.0000e+00\n",
      "Epoch 28/100\n",
      "214/214 [==============================] - 0s 280us/step - loss: nan - acc: 0.0000e+00\n",
      "Epoch 29/100\n",
      "214/214 [==============================] - 0s 276us/step - loss: nan - acc: 0.0000e+00\n",
      "Epoch 30/100\n",
      "214/214 [==============================] - 0s 322us/step - loss: nan - acc: 0.0000e+00\n",
      "Epoch 31/100\n",
      "214/214 [==============================] - 0s 304us/step - loss: nan - acc: 0.0000e+00\n",
      "Epoch 32/100\n",
      "214/214 [==============================] - 0s 332us/step - loss: nan - acc: 0.0000e+00\n",
      "Epoch 33/100\n",
      "214/214 [==============================] - 0s 243us/step - loss: nan - acc: 0.0000e+00\n",
      "Epoch 34/100\n",
      "214/214 [==============================] - 0s 276us/step - loss: nan - acc: 0.0000e+00\n",
      "Epoch 35/100\n",
      "214/214 [==============================] - 0s 243us/step - loss: nan - acc: 0.0000e+00\n",
      "Epoch 36/100\n",
      "214/214 [==============================] - 0s 294us/step - loss: nan - acc: 0.0000e+00\n",
      "Epoch 37/100\n",
      "214/214 [==============================] - 0s 327us/step - loss: nan - acc: 0.0000e+00\n",
      "Epoch 38/100\n",
      "214/214 [==============================] - 0s 318us/step - loss: nan - acc: 0.0000e+00\n",
      "Epoch 39/100\n",
      "214/214 [==============================] - 0s 318us/step - loss: nan - acc: 0.0000e+00\n",
      "Epoch 40/100\n",
      "214/214 [==============================] - 0s 285us/step - loss: nan - acc: 0.0000e+00\n",
      "Epoch 41/100\n",
      "214/214 [==============================] - 0s 234us/step - loss: nan - acc: 0.0000e+00\n",
      "Epoch 42/100\n",
      "214/214 [==============================] - 0s 262us/step - loss: nan - acc: 0.0000e+00\n",
      "Epoch 43/100\n",
      "214/214 [==============================] - 0s 350us/step - loss: nan - acc: 0.0000e+00\n",
      "Epoch 44/100\n",
      "214/214 [==============================] - 0s 369us/step - loss: nan - acc: 0.0000e+00\n",
      "Epoch 45/100\n",
      "214/214 [==============================] - 0s 425us/step - loss: nan - acc: 0.0000e+00\n",
      "Epoch 46/100\n",
      "214/214 [==============================] - 0s 252us/step - loss: nan - acc: 0.0000e+00\n",
      "Epoch 47/100\n",
      "214/214 [==============================] - 0s 290us/step - loss: nan - acc: 0.0000e+00\n",
      "Epoch 48/100\n",
      "214/214 [==============================] - 0s 248us/step - loss: nan - acc: 0.0000e+00\n",
      "Epoch 49/100\n",
      "214/214 [==============================] - 0s 271us/step - loss: nan - acc: 0.0000e+00\n",
      "Epoch 50/100\n",
      "214/214 [==============================] - 0s 262us/step - loss: nan - acc: 0.0000e+00\n",
      "Epoch 51/100\n",
      "214/214 [==============================] - 0s 280us/step - loss: nan - acc: 0.0000e+00\n",
      "Epoch 52/100\n",
      "214/214 [==============================] - 0s 378us/step - loss: nan - acc: 0.0000e+00\n",
      "Epoch 53/100\n",
      "214/214 [==============================] - 0s 280us/step - loss: nan - acc: 0.0000e+00\n",
      "Epoch 54/100\n",
      "214/214 [==============================] - 0s 336us/step - loss: nan - acc: 0.0000e+00\n",
      "Epoch 55/100\n",
      "214/214 [==============================] - 0s 276us/step - loss: nan - acc: 0.0000e+00\n",
      "Epoch 56/100\n",
      "214/214 [==============================] - 0s 332us/step - loss: nan - acc: 0.0000e+00\n",
      "Epoch 57/100\n",
      "214/214 [==============================] - 0s 244us/step - loss: nan - acc: 0.0000e+00\n",
      "Epoch 58/100\n",
      "214/214 [==============================] - 0s 238us/step - loss: nan - acc: 0.0000e+00\n",
      "Epoch 59/100\n",
      "214/214 [==============================] - 0s 243us/step - loss: nan - acc: 0.0000e+00\n",
      "Epoch 60/100\n",
      "214/214 [==============================] - 0s 257us/step - loss: nan - acc: 0.0000e+00\n",
      "Epoch 61/100\n",
      "214/214 [==============================] - 0s 271us/step - loss: nan - acc: 0.0000e+00\n",
      "Epoch 62/100\n",
      "214/214 [==============================] - 0s 261us/step - loss: nan - acc: 0.0000e+00\n",
      "Epoch 63/100\n",
      "214/214 [==============================] - 0s 238us/step - loss: nan - acc: 0.0000e+00\n",
      "Epoch 64/100\n",
      "214/214 [==============================] - 0s 223us/step - loss: nan - acc: 0.0000e+00\n",
      "Epoch 65/100\n",
      "214/214 [==============================] - 0s 211us/step - loss: nan - acc: 0.0000e+00\n",
      "Epoch 66/100\n",
      "214/214 [==============================] - 0s 229us/step - loss: nan - acc: 0.0000e+00\n",
      "Epoch 67/100\n",
      "214/214 [==============================] - 0s 234us/step - loss: nan - acc: 0.0000e+00\n",
      "Epoch 68/100\n",
      "214/214 [==============================] - 0s 243us/step - loss: nan - acc: 0.0000e+00\n",
      "Epoch 69/100\n",
      "214/214 [==============================] - 0s 234us/step - loss: nan - acc: 0.0000e+00\n",
      "Epoch 70/100\n",
      "214/214 [==============================] - 0s 209us/step - loss: nan - acc: 0.0000e+00\n",
      "Epoch 71/100\n",
      "214/214 [==============================] - 0s 243us/step - loss: nan - acc: 0.0000e+00\n",
      "Epoch 72/100\n",
      "214/214 [==============================] - 0s 215us/step - loss: nan - acc: 0.0000e+00\n",
      "Epoch 73/100\n",
      "214/214 [==============================] - 0s 205us/step - loss: nan - acc: 0.0000e+00\n",
      "Epoch 74/100\n",
      "214/214 [==============================] - 0s 214us/step - loss: nan - acc: 0.0000e+00\n",
      "Epoch 75/100\n",
      "214/214 [==============================] - 0s 207us/step - loss: nan - acc: 0.0000e+00\n",
      "Epoch 76/100\n",
      "214/214 [==============================] - 0s 219us/step - loss: nan - acc: 0.0000e+00\n",
      "Epoch 77/100\n",
      "214/214 [==============================] - 0s 224us/step - loss: nan - acc: 0.0000e+00\n",
      "Epoch 78/100\n",
      "214/214 [==============================] - 0s 229us/step - loss: nan - acc: 0.0000e+00\n",
      "Epoch 79/100\n",
      "214/214 [==============================] - 0s 252us/step - loss: nan - acc: 0.0000e+00\n",
      "Epoch 80/100\n",
      "214/214 [==============================] - 0s 238us/step - loss: nan - acc: 0.0000e+00\n",
      "Epoch 81/100\n",
      "214/214 [==============================] - 0s 234us/step - loss: nan - acc: 0.0000e+00\n",
      "Epoch 82/100\n",
      "214/214 [==============================] - 0s 224us/step - loss: nan - acc: 0.0000e+00\n",
      "Epoch 83/100\n"
     ]
    },
    {
     "name": "stdout",
     "output_type": "stream",
     "text": [
      "214/214 [==============================] - 0s 220us/step - loss: nan - acc: 0.0000e+00\n",
      "Epoch 84/100\n",
      "214/214 [==============================] - 0s 238us/step - loss: nan - acc: 0.0000e+00\n",
      "Epoch 85/100\n",
      "214/214 [==============================] - 0s 224us/step - loss: nan - acc: 0.0000e+00\n",
      "Epoch 86/100\n",
      "214/214 [==============================] - 0s 210us/step - loss: nan - acc: 0.0000e+00\n",
      "Epoch 87/100\n",
      "214/214 [==============================] - 0s 238us/step - loss: nan - acc: 0.0000e+00\n",
      "Epoch 88/100\n",
      "214/214 [==============================] - 0s 210us/step - loss: nan - acc: 0.0000e+00\n",
      "Epoch 89/100\n",
      "214/214 [==============================] - 0s 215us/step - loss: nan - acc: 0.0000e+00\n",
      "Epoch 90/100\n",
      "214/214 [==============================] - 0s 219us/step - loss: nan - acc: 0.0000e+00\n",
      "Epoch 91/100\n",
      "214/214 [==============================] - 0s 224us/step - loss: nan - acc: 0.0000e+00\n",
      "Epoch 92/100\n",
      "214/214 [==============================] - 0s 229us/step - loss: nan - acc: 0.0000e+00\n",
      "Epoch 93/100\n",
      "214/214 [==============================] - 0s 229us/step - loss: nan - acc: 0.0000e+00\n",
      "Epoch 94/100\n",
      "214/214 [==============================] - 0s 224us/step - loss: nan - acc: 0.0000e+00\n",
      "Epoch 95/100\n",
      "214/214 [==============================] - 0s 229us/step - loss: nan - acc: 0.0000e+00\n",
      "Epoch 96/100\n",
      "214/214 [==============================] - 0s 224us/step - loss: nan - acc: 0.0000e+00\n",
      "Epoch 97/100\n",
      "214/214 [==============================] - 0s 219us/step - loss: nan - acc: 0.0000e+00\n",
      "Epoch 98/100\n",
      "214/214 [==============================] - 0s 224us/step - loss: nan - acc: 0.0000e+00\n",
      "Epoch 99/100\n",
      "214/214 [==============================] - 0s 238us/step - loss: nan - acc: 0.0000e+00\n",
      "Epoch 100/100\n",
      "214/214 [==============================] - 0s 210us/step - loss: nan - acc: 0.0000e+00\n"
     ]
    },
    {
     "data": {
      "text/plain": [
       "<keras.callbacks.History at 0x1ad39e15780>"
      ]
     },
     "execution_count": 29,
     "metadata": {},
     "output_type": "execute_result"
    }
   ],
   "source": [
    "classifier = Sequential()\n",
    "classifier.add(Dense(units = 128, kernel_initializer = 'uniform', activation = 'relu', input_dim = X.shape[1]))\n",
    "classifier.add(Dense(units = 128, kernel_initializer = 'uniform', activation = 'relu'))\n",
    "classifier.add(Dense(units = 1, kernel_initializer = 'uniform', activation = 'sigmoid'))\n",
    "classifier.compile(optimizer = 'adam', loss = 'mean_squared_error', metrics = ['accuracy'])\n",
    "classifier.fit(X_train, y_train, batch_size = 10, epochs = 100)\n"
   ]
  },
  {
   "cell_type": "code",
   "execution_count": 30,
   "metadata": {},
   "outputs": [
    {
     "name": "stdout",
     "output_type": "stream",
     "text": [
      "y_pred classifier:  [[nan]\n",
      " [nan]\n",
      " [nan]\n",
      " [nan]\n",
      " [nan]\n",
      " [nan]\n",
      " [nan]\n",
      " [nan]\n",
      " [nan]\n",
      " [nan]\n",
      " [nan]\n",
      " [nan]\n",
      " [nan]\n",
      " [nan]\n",
      " [nan]\n",
      " [nan]\n",
      " [nan]\n",
      " [nan]\n",
      " [nan]\n",
      " [nan]\n",
      " [nan]\n",
      " [nan]\n",
      " [nan]\n",
      " [nan]\n",
      " [nan]\n",
      " [nan]\n",
      " [nan]\n",
      " [nan]\n",
      " [nan]\n",
      " [nan]\n",
      " [nan]\n",
      " [nan]\n",
      " [nan]\n",
      " [nan]\n",
      " [nan]\n",
      " [nan]\n",
      " [nan]\n",
      " [nan]\n",
      " [nan]\n",
      " [nan]\n",
      " [nan]\n",
      " [nan]\n",
      " [nan]\n",
      " [nan]\n",
      " [nan]\n",
      " [nan]\n",
      " [nan]\n",
      " [nan]\n",
      " [nan]\n",
      " [nan]\n",
      " [nan]\n",
      " [nan]\n",
      " [nan]\n",
      " [nan]]\n"
     ]
    },
    {
     "name": "stderr",
     "output_type": "stream",
     "text": [
      "C:\\Users\\Ganihar\\Anaconda3\\envs\\wqu_ml_fin\\lib\\site-packages\\ipykernel_launcher.py:3: RuntimeWarning: invalid value encountered in greater\n",
      "  This is separate from the ipykernel package so we can avoid doing imports until\n"
     ]
    }
   ],
   "source": [
    "y_pred = classifier.predict(X_test)\n",
    "print(\"y_pred classifier: \",y_pred)\n",
    "y_pred = (y_pred > 0.5)"
   ]
  },
  {
   "cell_type": "code",
   "execution_count": 31,
   "metadata": {},
   "outputs": [],
   "source": [
    "dataset['y_pred'] = np.NaN\n",
    "dataset.iloc[(len(dataset) - len(y_pred)):,-1:] = y_pred\n",
    "trade_dataset = dataset.dropna()"
   ]
  },
  {
   "cell_type": "code",
   "execution_count": 32,
   "metadata": {},
   "outputs": [
    {
     "name": "stderr",
     "output_type": "stream",
     "text": [
      "C:\\Users\\Ganihar\\Anaconda3\\envs\\wqu_ml_fin\\lib\\site-packages\\ipykernel_launcher.py:1: SettingWithCopyWarning: \n",
      "A value is trying to be set on a copy of a slice from a DataFrame.\n",
      "Try using .loc[row_indexer,col_indexer] = value instead\n",
      "\n",
      "See the caveats in the documentation: http://pandas.pydata.org/pandas-docs/stable/user_guide/indexing.html#returning-a-view-versus-a-copy\n",
      "  \"\"\"Entry point for launching an IPython kernel.\n",
      "C:\\Users\\Ganihar\\Anaconda3\\envs\\wqu_ml_fin\\lib\\site-packages\\ipykernel_launcher.py:2: SettingWithCopyWarning: \n",
      "A value is trying to be set on a copy of a slice from a DataFrame.\n",
      "Try using .loc[row_indexer,col_indexer] = value instead\n",
      "\n",
      "See the caveats in the documentation: http://pandas.pydata.org/pandas-docs/stable/user_guide/indexing.html#returning-a-view-versus-a-copy\n",
      "  \n",
      "C:\\Users\\Ganihar\\Anaconda3\\envs\\wqu_ml_fin\\lib\\site-packages\\ipykernel_launcher.py:3: SettingWithCopyWarning: \n",
      "A value is trying to be set on a copy of a slice from a DataFrame.\n",
      "Try using .loc[row_indexer,col_indexer] = value instead\n",
      "\n",
      "See the caveats in the documentation: http://pandas.pydata.org/pandas-docs/stable/user_guide/indexing.html#returning-a-view-versus-a-copy\n",
      "  This is separate from the ipykernel package so we can avoid doing imports until\n"
     ]
    }
   ],
   "source": [
    "trade_dataset['Tomorrows Returns'] = 0.\n",
    "trade_dataset['Tomorrows Returns'] = np.log(trade_dataset['Close']/trade_dataset['Close'].shift(1))\n",
    "trade_dataset['Tomorrows Returns'] = trade_dataset['Tomorrows Returns'].shift(-1)"
   ]
  },
  {
   "cell_type": "code",
   "execution_count": 33,
   "metadata": {},
   "outputs": [
    {
     "name": "stderr",
     "output_type": "stream",
     "text": [
      "C:\\Users\\Ganihar\\Anaconda3\\envs\\wqu_ml_fin\\lib\\site-packages\\ipykernel_launcher.py:1: SettingWithCopyWarning: \n",
      "A value is trying to be set on a copy of a slice from a DataFrame.\n",
      "Try using .loc[row_indexer,col_indexer] = value instead\n",
      "\n",
      "See the caveats in the documentation: http://pandas.pydata.org/pandas-docs/stable/user_guide/indexing.html#returning-a-view-versus-a-copy\n",
      "  \"\"\"Entry point for launching an IPython kernel.\n",
      "C:\\Users\\Ganihar\\Anaconda3\\envs\\wqu_ml_fin\\lib\\site-packages\\ipykernel_launcher.py:2: SettingWithCopyWarning: \n",
      "A value is trying to be set on a copy of a slice from a DataFrame.\n",
      "Try using .loc[row_indexer,col_indexer] = value instead\n",
      "\n",
      "See the caveats in the documentation: http://pandas.pydata.org/pandas-docs/stable/user_guide/indexing.html#returning-a-view-versus-a-copy\n",
      "  \n"
     ]
    }
   ],
   "source": [
    "trade_dataset['Strategy Returns'] = 0.\n",
    "trade_dataset['Strategy Returns'] = np.where(trade_dataset['y_pred'] == True, trade_dataset['Tomorrows Returns'], - trade_dataset['Tomorrows Returns'])"
   ]
  },
  {
   "cell_type": "code",
   "execution_count": 34,
   "metadata": {},
   "outputs": [
    {
     "name": "stderr",
     "output_type": "stream",
     "text": [
      "C:\\Users\\Ganihar\\Anaconda3\\envs\\wqu_ml_fin\\lib\\site-packages\\ipykernel_launcher.py:1: SettingWithCopyWarning: \n",
      "A value is trying to be set on a copy of a slice from a DataFrame.\n",
      "Try using .loc[row_indexer,col_indexer] = value instead\n",
      "\n",
      "See the caveats in the documentation: http://pandas.pydata.org/pandas-docs/stable/user_guide/indexing.html#returning-a-view-versus-a-copy\n",
      "  \"\"\"Entry point for launching an IPython kernel.\n",
      "C:\\Users\\Ganihar\\Anaconda3\\envs\\wqu_ml_fin\\lib\\site-packages\\ipykernel_launcher.py:2: SettingWithCopyWarning: \n",
      "A value is trying to be set on a copy of a slice from a DataFrame.\n",
      "Try using .loc[row_indexer,col_indexer] = value instead\n",
      "\n",
      "See the caveats in the documentation: http://pandas.pydata.org/pandas-docs/stable/user_guide/indexing.html#returning-a-view-versus-a-copy\n",
      "  \n"
     ]
    }
   ],
   "source": [
    "trade_dataset['Cumulative Market Returns'] = np.cumsum(trade_dataset['Tomorrows Returns'])\n",
    "trade_dataset['Cumulative Strategy Returns'] = np.cumsum(trade_dataset['Strategy Returns'])"
   ]
  },
  {
   "cell_type": "code",
   "execution_count": 35,
   "metadata": {},
   "outputs": [
    {
     "name": "stderr",
     "output_type": "stream",
     "text": [
      "C:\\Users\\Ganihar\\Anaconda3\\envs\\wqu_ml_fin\\lib\\site-packages\\pandas\\plotting\\_matplotlib\\converter.py:103: FutureWarning: Using an implicitly registered datetime converter for a matplotlib plotting method. The converter was registered by pandas on import. Future versions of pandas will require you to explicitly register matplotlib converters.\n",
      "\n",
      "To register the converters:\n",
      "\t>>> from pandas.plotting import register_matplotlib_converters\n",
      "\t>>> register_matplotlib_converters()\n",
      "  warnings.warn(msg, FutureWarning)\n"
     ]
    },
    {
     "data": {
      "image/png": "[encoded data removed]",
      "text/plain": [
       "<Figure size 720x360 with 1 Axes>"
      ]
     },
     "metadata": {
      "needs_background": "light"
     },
     "output_type": "display_data"
    }
   ],
   "source": [
    "plt.figure(figsize=(10,5))\n",
    "plt.plot(trade_dataset['Cumulative Market Returns'], color='r', label='Market Returns')\n",
    "plt.plot(trade_dataset['Cumulative Strategy Returns'], color='g', label='Strategy Returns')\n",
    "plt.legend()\n",
    "plt.show()"
   ]
  },
  {
   "cell_type": "code",
   "execution_count": 36,
   "metadata": {},
   "outputs": [
    {
     "name": "stderr",
     "output_type": "stream",
     "text": [
      "C:\\Users\\Ganihar\\Anaconda3\\envs\\wqu_ml_fin\\lib\\site-packages\\ipykernel_launcher.py:1: SettingWithCopyWarning: \n",
      "A value is trying to be set on a copy of a slice from a DataFrame.\n",
      "Try using .loc[row_indexer,col_indexer] = value instead\n",
      "\n",
      "See the caveats in the documentation: http://pandas.pydata.org/pandas-docs/stable/user_guide/indexing.html#returning-a-view-versus-a-copy\n",
      "  \"\"\"Entry point for launching an IPython kernel.\n",
      "C:\\Users\\Ganihar\\Anaconda3\\envs\\wqu_ml_fin\\lib\\site-packages\\ipykernel_launcher.py:3: SettingWithCopyWarning: \n",
      "A value is trying to be set on a copy of a slice from a DataFrame.\n",
      "Try using .loc[row_indexer,col_indexer] = value instead\n",
      "\n",
      "See the caveats in the documentation: http://pandas.pydata.org/pandas-docs/stable/user_guide/indexing.html#returning-a-view-versus-a-copy\n",
      "  This is separate from the ipykernel package so we can avoid doing imports until\n",
      "C:\\Users\\Ganihar\\Anaconda3\\envs\\wqu_ml_fin\\lib\\site-packages\\ipykernel_launcher.py:4: SettingWithCopyWarning: \n",
      "A value is trying to be set on a copy of a slice from a DataFrame.\n",
      "Try using .loc[row_indexer,col_indexer] = value instead\n",
      "\n",
      "See the caveats in the documentation: http://pandas.pydata.org/pandas-docs/stable/user_guide/indexing.html#returning-a-view-versus-a-copy\n",
      "  after removing the cwd from sys.path.\n"
     ]
    }
   ],
   "source": [
    "trade_dataset['tradedate']=trade_dataset.index.copy()\n",
    "\n",
    "trade_dataset['Strategy Returns Buy Date'] = np.where(trade_dataset['y_pred'] == True, trade_dataset['tradedate'], trade_dataset['tradedate'].shift(-1))\n",
    "trade_dataset['Strategy Returns Sell Date'] = np.where(trade_dataset['y_pred'] == False, trade_dataset['tradedate'], trade_dataset['tradedate'].shift(-1))"
   ]
  },
  {
   "cell_type": "code",
   "execution_count": 103,
   "metadata": {},
   "outputs": [
    {
     "data": {
      "text/plain": [
       "50    2019-06-13\n",
       "51    2019-06-14\n",
       "52    2019-06-17\n",
       "53    2019-06-18\n",
       "54    2019-06-19\n",
       "55    2019-06-20\n",
       "56    2019-06-21\n",
       "57    2019-06-24\n",
       "58    2019-06-25\n",
       "59    2019-06-26\n",
       "60    2019-06-27\n",
       "61    2019-06-28\n",
       "62           NaN\n",
       "Name: Strategy Returns Buy Date, dtype: object"
      ]
     },
     "execution_count": 103,
     "metadata": {},
     "output_type": "execute_result"
    }
   ],
   "source": [
    "trade_dataset['Strategy Returns Buy Date'].head(15)"
   ]
  }
 ],
 "metadata": {
  "kernelspec": {
   "display_name": "Python 3",
   "language": "python",
   "name": "python3"
  },
  "language_info": {
   "codemirror_mode": {
    "name": "ipython",
    "version": 3
   },
   "file_extension": ".py",
   "mimetype": "text/x-python",
   "name": "python",
   "nbconvert_exporter": "python",
   "pygments_lexer": "ipython3",
   "version": "3.5.6"
  }
 },
 "nbformat": 4,
 "nbformat_minor": 2
}
