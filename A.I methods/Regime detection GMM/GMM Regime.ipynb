{
 "cells": [
  {
   "cell_type": "code",
   "execution_count": 46,
   "metadata": {},
   "outputs": [],
   "source": [
    "from hmmlearn.hmm import GaussianHMM\n",
    "from sklearn.preprocessing import StandardScaler\n",
    "import numpy as np\n",
    "import pandas as pd"
   ]
  },
  {
   "cell_type": "code",
   "execution_count": 47,
   "metadata": {},
   "outputs": [],
   "source": [
    "df=pd.read_csv(\"HD.csv\",encoding= 'unicode_escape')\n",
    "df[\"Returns\"] = df[\"Adj Close\"].pct_change()\n",
    "df[\"Intraday Volatility\"] = df[\"High\"] - df[\"Low\"]\n",
    "df[\"Fractional Change\"] = (df[\"Close\"] - df[\"Open\"]) / df[\"Open\"]\n",
    "df[\"Fractional High\"] = (df[\"High\"] - df[\"Open\"]) / df[\"Open\"]\n",
    "df[\"Fractional Low\"] = (df[\"Open\"] - df[\"Low\"]) / df[\"Open\"]\n",
    "df[\"Returns\"] = np.nan_to_num(df[\"Returns\"]) "
   ]
  },
  {
   "cell_type": "code",
   "execution_count": 48,
   "metadata": {},
   "outputs": [
    {
     "name": "stdout",
     "output_type": "stream",
     "text": [
      "Model Score: 33.94008234418075\n",
      "[[8.23523929e-05 9.99999176e+01]\n",
      " [3.33443051e-05 9.99999667e+01]]\n"
     ]
    }
   ],
   "source": [
    "rets1 = np.column_stack([df['Returns']])\n",
    "hmm_model = GaussianHMM(n_components=2, covariance_type=\"diag\", n_iter=1000).fit(rets1)\n",
    "print(\"Model Score:\", hmm_model.score(rets1))\n",
    "print(hmm_model.transmat_ * 100)"
   ]
  },
  {
   "cell_type": "code",
   "execution_count": 49,
   "metadata": {},
   "outputs": [
    {
     "name": "stdout",
     "output_type": "stream",
     "text": [
      "Model Score: -36.462100097337874\n",
      "[[49.95998135 50.04001865]\n",
      " [ 8.34157451 91.65842549]]\n"
     ]
    }
   ],
   "source": [
    "scaler = StandardScaler()\n",
    "rets2 = scaler.fit_transform(df[['Returns','Volume']])\n",
    "hmm_model = GaussianHMM(n_components=2, covariance_type=\"spherical\", n_iter=1000).fit(rets2)\n",
    "print(\"Model Score:\", hmm_model.score(rets2))\n",
    "print(hmm_model.transmat_ * 100)"
   ]
  },
  {
   "cell_type": "code",
   "execution_count": 50,
   "metadata": {},
   "outputs": [
    {
     "name": "stdout",
     "output_type": "stream",
     "text": [
      "Model Score: -2.674922113358601\n",
      "[[91.66666667  8.33333333]\n",
      " [50.         50.        ]]\n"
     ]
    }
   ],
   "source": [
    "scaler = StandardScaler()\n",
    "rets3 = scaler.fit_transform(df[['Returns', 'Volume', 'Intraday Volatility']])\n",
    "hmm_model = GaussianHMM(n_components=2, covariance_type=\"full\", n_iter=1000).fit(rets3)\n",
    "print(\"Model Score:\", hmm_model.score(rets3))\n",
    "print(hmm_model.transmat_ * 100)"
   ]
  },
  {
   "cell_type": "code",
   "execution_count": 51,
   "metadata": {},
   "outputs": [
    {
     "name": "stdout",
     "output_type": "stream",
     "text": [
      "Model Score: 127.81210019434542\n",
      "[[ 80.35841614  19.64158386]\n",
      " [100.           0.        ]]\n"
     ]
    }
   ],
   "source": [
    "rets4 = df[['Fractional Change', 'Fractional High', 'Fractional Low']]\n",
    "hmm_model = GaussianHMM(n_components=2, covariance_type=\"full\", n_iter=1000).fit(rets4)\n",
    "print(\"Model Score:\", hmm_model.score(rets4))\n",
    "print(hmm_model.transmat_ * 100)"
   ]
  },
  {
   "cell_type": "code",
   "execution_count": 52,
   "metadata": {},
   "outputs": [],
   "source": [
    "import sklearn.mixture as mix\n",
    "import scipy.stats as scs\n",
    "import pandas_datareader.data as web\n",
    "model = mix.GaussianMixture(n_components=3,covariance_type=\"full\",n_init=100,random_state=7).fit(rets2)\n",
    "hidden_states = model.predict(rets2)"
   ]
  },
  {
   "cell_type": "code",
   "execution_count": 53,
   "metadata": {},
   "outputs": [
    {
     "name": "stdout",
     "output_type": "stream",
     "text": [
      "Means and vars of each hidden state\n",
      "0th hidden state\n",
      "mean =  [-0.0328109  -0.41404604]\n",
      "var =  [0.33529728 0.14721326]\n",
      "\n",
      "1th hidden state\n",
      "mean =  [-1.1070441  2.3453241]\n",
      "var =  [0.85585746 0.04896214]\n",
      "\n",
      "2th hidden state\n",
      "mean =  [2.60781898 0.27790431]\n",
      "var =  [1.e-06 1.e-06]\n",
      "\n"
     ]
    }
   ],
   "source": [
    "print(\"Means and vars of each hidden state\")\n",
    "for i in range(model.n_components):\n",
    "    print(\"{0}th hidden state\".format(i))\n",
    "    print(\"mean = \", model.means_[i])\n",
    "    print(\"var = \", np.diag(model.covariances_[i]))\n",
    "    print()"
   ]
  },
  {
   "cell_type": "code",
   "execution_count": 54,
   "metadata": {},
   "outputs": [
    {
     "data": {
      "text/plain": [
       "array([1, 1, 2, 0, 0, 1, 1, 1, 1, 1, 1, 1, 1, 1, 1], dtype=int64)"
      ]
     },
     "execution_count": 54,
     "metadata": {},
     "output_type": "execute_result"
    }
   ],
   "source": [
    "model = mix.GaussianMixture(n_components=3,covariance_type=\"full\",n_init=100,random_state=7).fit(rets1)\n",
    "hidden_states1 = model.predict(rets1)\n",
    "hidden_states1"
   ]
  },
  {
   "cell_type": "code",
   "execution_count": 55,
   "metadata": {},
   "outputs": [
    {
     "data": {
      "text/plain": [
       "array([0, 1, 1, 2, 0, 0, 0, 0, 0, 0, 0, 0, 0, 0, 0], dtype=int64)"
      ]
     },
     "execution_count": 55,
     "metadata": {},
     "output_type": "execute_result"
    }
   ],
   "source": [
    "model = mix.GaussianMixture(n_components=3,covariance_type=\"full\",n_init=100,random_state=7).fit(rets2)\n",
    "hidden_states2 = model.predict(rets2)\n",
    "hidden_states2"
   ]
  },
  {
   "cell_type": "code",
   "execution_count": 56,
   "metadata": {},
   "outputs": [
    {
     "data": {
      "text/plain": [
       "array([0, 2, 2, 1, 0, 0, 1, 0, 0, 0, 0, 0, 0, 0, 0], dtype=int64)"
      ]
     },
     "execution_count": 56,
     "metadata": {},
     "output_type": "execute_result"
    }
   ],
   "source": [
    "model = mix.GaussianMixture(n_components=3,covariance_type=\"full\",n_init=100,random_state=7).fit(rets3)\n",
    "hidden_states3 = model.predict(rets3)\n",
    "hidden_states3"
   ]
  },
  {
   "cell_type": "code",
   "execution_count": 57,
   "metadata": {},
   "outputs": [
    {
     "data": {
      "text/plain": [
       "array([0, 1, 2, 2, 0, 0, 2, 0, 0, 0, 0, 0, 0, 0, 0], dtype=int64)"
      ]
     },
     "execution_count": 57,
     "metadata": {},
     "output_type": "execute_result"
    }
   ],
   "source": [
    "model = mix.GaussianMixture(n_components=3,covariance_type=\"full\",n_init=100,random_state=7).fit(rets4)\n",
    "hidden_states4 = model.predict(rets4)\n",
    "hidden_states4"
   ]
  },
  {
   "cell_type": "code",
   "execution_count": 58,
   "metadata": {},
   "outputs": [],
   "source": [
    "df1 = pd.DataFrame({ 'hidden_states1': hidden_states1 })"
   ]
  },
  {
   "cell_type": "code",
   "execution_count": 59,
   "metadata": {},
   "outputs": [],
   "source": [
    "#df2['hidden_states2']=pd.Series(hidden_states2)"
   ]
  },
  {
   "cell_type": "code",
   "execution_count": 60,
   "metadata": {},
   "outputs": [],
   "source": [
    "df2 = pd.DataFrame({ 'hidden_states2': hidden_states2 })"
   ]
  },
  {
   "cell_type": "code",
   "execution_count": 61,
   "metadata": {},
   "outputs": [],
   "source": [
    "df3 = pd.DataFrame({ 'hidden_states3': hidden_states3 })"
   ]
  },
  {
   "cell_type": "code",
   "execution_count": 62,
   "metadata": {},
   "outputs": [],
   "source": [
    "df4 = pd.DataFrame({ 'hidden_states4': hidden_states4 })"
   ]
  },
  {
   "cell_type": "code",
   "execution_count": 63,
   "metadata": {},
   "outputs": [],
   "source": [
    "#df1['hidden_states3']=pd.Series(hidden_states3)"
   ]
  },
  {
   "cell_type": "code",
   "execution_count": 64,
   "metadata": {},
   "outputs": [],
   "source": [
    "#df1['hidden_states4']=pd.Series(hidden_states4)"
   ]
  },
  {
   "cell_type": "code",
   "execution_count": 65,
   "metadata": {},
   "outputs": [],
   "source": [
    "df1.to_csv('HDHMM1.csv',index=False)"
   ]
  },
  {
   "cell_type": "code",
   "execution_count": 66,
   "metadata": {},
   "outputs": [],
   "source": [
    "df2.to_csv('HDHMM2.csv',index=False)"
   ]
  },
  {
   "cell_type": "code",
   "execution_count": 67,
   "metadata": {},
   "outputs": [],
   "source": [
    "df3.to_csv('HDHMM3.csv',index=False)"
   ]
  },
  {
   "cell_type": "code",
   "execution_count": 68,
   "metadata": {},
   "outputs": [],
   "source": [
    "df4.to_csv('HDHMM4.csv',index=False)"
   ]
  }
 ],
 "metadata": {
  "kernelspec": {
   "display_name": "Python 3",
   "language": "python",
   "name": "python3"
  },
  "language_info": {
   "codemirror_mode": {
    "name": "ipython",
    "version": 3
   },
   "file_extension": ".py",
   "mimetype": "text/x-python",
   "name": "python",
   "nbconvert_exporter": "python",
   "pygments_lexer": "ipython3",
   "version": "3.5.6"
  }
 },
 "nbformat": 4,
 "nbformat_minor": 2
}
